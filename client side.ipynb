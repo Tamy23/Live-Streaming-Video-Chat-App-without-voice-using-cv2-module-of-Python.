{
 "cells": [
  {
   "cell_type": "code",
   "execution_count": 2,
   "id": "d1eb62f1",
   "metadata": {},
   "outputs": [],
   "source": [
    "import cv2\n",
    "import socket\n",
    "import pickle\n",
    "import struct"
   ]
  },
  {
   "cell_type": "code",
   "execution_count": 3,
   "id": "08ad52ed",
   "metadata": {},
   "outputs": [
    {
     "name": "stdout",
     "output_type": "stream",
     "text": [
      "Socket successfully created Now Show ...\n"
     ]
    }
   ],
   "source": [
    "try:\n",
    "    skt = socket.socket(socket.AF_INET, socket.SOCK_STREAM)\n",
    "    print(\"Socket successfully created Now Show ...\")\n",
    "except socket.error as err:\n",
    "    print(\"Socket creation failed with error {}\".formatat(err))"
   ]
  },
  {
   "cell_type": "code",
   "execution_count": 4,
   "id": "2e83b597",
   "metadata": {},
   "outputs": [],
   "source": [
    "port = 1235\n",
    "server_ip = \"192.168.56.1\"\n",
    "skt.connect((server_ip,port))\n",
    "data = b\"\"\n",
    "payload_size = struct.calcsize(\"Q\")\n",
    "try:\n",
    "    while True:\n",
    "        while len(data) < payload_size:\n",
    "            packet = skt.recv(4*1024)\n",
    "            if not packet: break\n",
    "            data += packet\n",
    "        packed_msg_size = data[:payload_size]\n",
    "        data = data[payload_size:]\n",
    "        msg_size =  struct.unpack(\"Q\",packed_msg_size)[0]\n",
    "\n",
    "        while len(data) < msg_size:\n",
    "            data+= skt.recv(4*1024)\n",
    "        img_data = data[:msg_size]\n",
    "        data = data[msg_size:]\n",
    "        img = pickle.loads(img_data)\n",
    "        cv2.imshow(\"Recieving video\", img)\n",
    "        if cv2.waitKey(10) == 13:\n",
    "            cv2.destroyAllWindows()\n",
    "            break\n",
    "    skt.close()\n",
    "except:\n",
    "    cv2.destroyAllWindows()\n",
    "    skt.close()"
   ]
  },
  {
   "cell_type": "code",
   "execution_count": null,
   "id": "f5e50f60",
   "metadata": {},
   "outputs": [],
   "source": []
  },
  {
   "cell_type": "code",
   "execution_count": null,
   "id": "5f922520",
   "metadata": {},
   "outputs": [],
   "source": []
  },
  {
   "cell_type": "code",
   "execution_count": null,
   "id": "52fd744c",
   "metadata": {},
   "outputs": [],
   "source": []
  },
  {
   "cell_type": "code",
   "execution_count": null,
   "id": "d80858fd",
   "metadata": {},
   "outputs": [],
   "source": []
  },
  {
   "cell_type": "code",
   "execution_count": null,
   "id": "17ff0576",
   "metadata": {},
   "outputs": [],
   "source": []
  },
  {
   "cell_type": "code",
   "execution_count": null,
   "id": "e596bad0",
   "metadata": {},
   "outputs": [],
   "source": []
  },
  {
   "cell_type": "code",
   "execution_count": null,
   "id": "7d9fa6d1",
   "metadata": {},
   "outputs": [],
   "source": []
  },
  {
   "cell_type": "code",
   "execution_count": null,
   "id": "24e19ddf",
   "metadata": {},
   "outputs": [],
   "source": []
  },
  {
   "cell_type": "code",
   "execution_count": null,
   "id": "6fd16875",
   "metadata": {},
   "outputs": [],
   "source": []
  },
  {
   "cell_type": "code",
   "execution_count": null,
   "id": "61422a17",
   "metadata": {},
   "outputs": [],
   "source": []
  }
 ],
 "metadata": {
  "kernelspec": {
   "display_name": "Python 3 (ipykernel)",
   "language": "python",
   "name": "python3"
  },
  "language_info": {
   "codemirror_mode": {
    "name": "ipython",
    "version": 3
   },
   "file_extension": ".py",
   "mimetype": "text/x-python",
   "name": "python",
   "nbconvert_exporter": "python",
   "pygments_lexer": "ipython3",
   "version": "3.11.3"
  }
 },
 "nbformat": 4,
 "nbformat_minor": 5
}
