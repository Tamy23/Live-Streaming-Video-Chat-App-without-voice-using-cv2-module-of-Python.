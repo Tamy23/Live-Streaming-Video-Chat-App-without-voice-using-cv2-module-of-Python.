{
 "cells": [
  {
   "cell_type": "code",
   "execution_count": 6,
   "id": "c6e12875",
   "metadata": {},
   "outputs": [],
   "source": [
    "import cv2\n",
    "import socket\n",
    "import pickle\n",
    "import struct"
   ]
  },
  {
   "cell_type": "code",
   "execution_count": 7,
   "id": "9274e144",
   "metadata": {},
   "outputs": [
    {
     "name": "stdout",
     "output_type": "stream",
     "text": [
      "Socket successfully created ...\n"
     ]
    }
   ],
   "source": [
    "try:\n",
    "    skt = socket.socket(socket.AF_INET, socket.SOCK_STREAM)\n",
    "    print(\"Socket successfully created ...\")\n",
    "except socket.error as err:\n",
    "    print(\"Socket creation failed with error {}\".formatat(err))"
   ]
  },
  {
   "cell_type": "code",
   "execution_count": null,
   "id": "86fbbcc7",
   "metadata": {},
   "outputs": [
    {
     "name": "stdout",
     "output_type": "stream",
     "text": [
      "Socket is listening......\n",
      "Connected to :  ('192.168.56.1', 58564)\n"
     ]
    }
   ],
   "source": [
    "port = 1235\n",
    "skt.bind((\"\", port))\n",
    "skt.listen()\n",
    "print(\"Socket is listening......\")\n",
    "try:\n",
    "    while True:\n",
    "        session, address = skt.accept()\n",
    "        print(\"Connected to : \",address)\n",
    "        if session:\n",
    "            cam = cv2.VideoCapture(0)\n",
    "            while(cam.isOpened()):\n",
    "                ret, img = cam.read()\n",
    "                data = pickle.dumps(img)\n",
    "                msg = struct.pack(\"Q\", len(data))+ data\n",
    "                session.sendall(msg)\n",
    "                cv2.imshow(\"Transmitting video...\",img)\n",
    "                if cv2.waitKey(1) == 13:\n",
    "                    cv2.destroyAllWindows()\n",
    "                    session.close()\n",
    "                    break\n",
    "except:\n",
    "    cv2.destroyAllWindows()\n",
    "    session.close()"
   ]
  },
  {
   "cell_type": "code",
   "execution_count": null,
   "id": "63264525",
   "metadata": {},
   "outputs": [],
   "source": []
  },
  {
   "cell_type": "code",
   "execution_count": null,
   "id": "d5c7b38b",
   "metadata": {},
   "outputs": [],
   "source": []
  },
  {
   "cell_type": "code",
   "execution_count": null,
   "id": "d523535a",
   "metadata": {},
   "outputs": [],
   "source": []
  },
  {
   "cell_type": "code",
   "execution_count": null,
   "id": "16c04a5e",
   "metadata": {},
   "outputs": [],
   "source": []
  },
  {
   "cell_type": "code",
   "execution_count": null,
   "id": "078a77d8",
   "metadata": {},
   "outputs": [],
   "source": []
  },
  {
   "cell_type": "code",
   "execution_count": null,
   "id": "1888c22d",
   "metadata": {},
   "outputs": [],
   "source": []
  },
  {
   "cell_type": "code",
   "execution_count": null,
   "id": "d6ee176c",
   "metadata": {},
   "outputs": [],
   "source": []
  },
  {
   "cell_type": "code",
   "execution_count": null,
   "id": "e5ac39d8",
   "metadata": {},
   "outputs": [],
   "source": []
  }
 ],
 "metadata": {
  "kernelspec": {
   "display_name": "Python 3 (ipykernel)",
   "language": "python",
   "name": "python3"
  },
  "language_info": {
   "codemirror_mode": {
    "name": "ipython",
    "version": 3
   },
   "file_extension": ".py",
   "mimetype": "text/x-python",
   "name": "python",
   "nbconvert_exporter": "python",
   "pygments_lexer": "ipython3",
   "version": "3.11.3"
  }
 },
 "nbformat": 4,
 "nbformat_minor": 5
}
